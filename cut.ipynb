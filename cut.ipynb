{
 "cells": [
  {
   "cell_type": "code",
   "execution_count": 3,
   "metadata": {},
   "outputs": [
    {
     "name": "stdout",
     "output_type": "stream",
     "text": [
      "图片已成功分配到训练集和测试集！\n"
     ]
    }
   ],
   "source": [
    "import pandas as pd\n",
    "import os\n",
    "import shutil\n",
    "from sklearn.model_selection import train_test_split\n",
    "\n",
    "# 路径配置\n",
    "excel_path = '241110 pym自评label-et.xlsx'  # Excel文件路径\n",
    "image_folder = 'ET分级大圆修改'  # 原始图片文件夹路径\n",
    "target_folder = 'ET分级大圆new' # 目标文件夹路径（train和test文件夹将在此创建）\n",
    "df = pd.read_excel(excel_path)\n",
    "df['ID'] = df['Image'].apply(lambda x: x.split('-')[1])\n",
    "train_df, test_df = train_test_split(df, test_size=0.4, stratify=df['ID'], random_state=42)\n",
    "def prepare_folders_and_copy_files(subset_df, subset_name):\n",
    "    for _, row in subset_df.iterrows():\n",
    "        file_name, category, id_ = row['Image'], str(row['Large circle']), row['ID']\n",
    "        src_file_path = os.path.join(image_folder, file_name)\n",
    "        target_dir_path = os.path.join(target_folder, subset_name, category)\n",
    "        \n",
    "        if not os.path.exists(target_dir_path):\n",
    "            os.makedirs(target_dir_path)\n",
    "        \n",
    "        shutil.copy(src_file_path, target_dir_path)\n",
    "prepare_folders_and_copy_files(train_df, 'train')\n",
    "prepare_folders_and_copy_files(test_df, 'test')\n",
    "\n",
    "print('图片已成功分配到训练集和测试集！')"
   ]
  },
  {
   "cell_type": "code",
   "execution_count": 5,
   "metadata": {},
   "outputs": [],
   "source": [
    "import imgaug as ia\n",
    "import imgaug.augmenters as iaa\n",
    "import os\n",
    "from PIL import Image\n",
    "import numpy as np\n",
    "\n",
    "def augment_image(image_path, augmenter, output_dir, max_images):\n",
    "    image = Image.open(image_path)\n",
    "    image = np.array(image)\n",
    "    aug_image = augmenter.augment_image(image)\n",
    "    aug_image_pil = Image.fromarray(aug_image)\n",
    "    output_path = os.path.join(output_dir, f\"aug_{max_images}.png\")\n",
    "    aug_image_pil.save(output_path)\n",
    "    return output_path\n",
    "\n",
    "def augment_images_in_folder(folder_path, augmenter, target_total=800):\n",
    "    original_images = [f for f in os.listdir(folder_path) if f.endswith('.png') or f.endswith('.jpg')]\n",
    "    total_images = len(original_images)\n",
    "\n",
    "    if total_images >= target_total:\n",
    "        return  \n",
    "    images_per_original = (target_total - total_images) // total_images\n",
    "    for i, image_file in enumerate(original_images):\n",
    "        image_path = os.path.join(folder_path, image_file)\n",
    "        for _ in range(images_per_original):\n",
    "            if total_images >= target_total:\n",
    "                break\n",
    "            augment_image(image_path, augmenter, folder_path, total_images)\n",
    "            total_images += 1\n",
    "\n",
    "def augment_dataset(base_folder):\n",
    "    # 定义一系列图像增强操作\n",
    "    augmenter = iaa.Sequential([\n",
    "        iaa.Affine(rotate=(-25, 25), scale=(0.8, 1.2)),\n",
    "        iaa.AdditiveGaussianNoise(scale=(0, 0.05*255)),\n",
    "        iaa.GaussianBlur(sigma=(0, 3.0)),\n",
    "        iaa.Fliplr(0.5),\n",
    "        iaa.Flipud(0.5),\n",
    "        iaa.LinearContrast((0.75, 1.5)),\n",
    "        iaa.Multiply((0.8, 1.2)),\n",
    "        iaa.Crop(percent=(0, 0.1))\n",
    "    ])\n",
    "\n",
    "    for category_folder in os.listdir(base_folder):\n",
    "        category_path = os.path.join(base_folder, category_folder)\n",
    "        if os.path.isdir(category_path):\n",
    "            augment_images_in_folder(category_path, augmenter)\n",
    "\n",
    "base_folder = \"ET分级大圆new/train\"  \n",
    "augment_dataset(base_folder)"
   ]
  }
 ],
 "metadata": {
  "kernelspec": {
   "display_name": "Python 3",
   "language": "python",
   "name": "python3"
  },
  "language_info": {
   "codemirror_mode": {
    "name": "ipython",
    "version": 3
   },
   "file_extension": ".py",
   "mimetype": "text/x-python",
   "name": "python",
   "nbconvert_exporter": "python",
   "pygments_lexer": "ipython3",
   "version": "3.9.13"
  }
 },
 "nbformat": 4,
 "nbformat_minor": 2
}
